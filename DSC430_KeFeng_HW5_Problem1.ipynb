{
 "cells": [
  {
   "cell_type": "code",
   "execution_count": 1,
   "metadata": {},
   "outputs": [],
   "source": [
    "#Ke Feng\n",
    "# I have not given or received any unauthorized assistance on this assignment."
   ]
  },
  {
   "cell_type": "code",
   "execution_count": 2,
   "metadata": {},
   "outputs": [],
   "source": [
    "#1. Import Numpy \n",
    "import numpy as np"
   ]
  },
  {
   "cell_type": "code",
   "execution_count": 3,
   "metadata": {},
   "outputs": [
    {
     "name": "stdout",
     "output_type": "stream",
     "text": [
      "[ 0  1  2  3  4  5  6  7  8  9 10 11 12 13 14 15 16 17 18 19 20 21 22 23\n",
      " 24 25 26 27 28 29 30 31 32 33 34 35 36 37 38 39 40 41 42 43 44 45 46 47\n",
      " 48 49 50 51 52 53 54 55 56 57 58 59 60 61 62 63 64 65 66 67 68 69 70 71\n",
      " 72 73 74 75 76 77 78 79 80 81 82 83 84 85 86 87 88 89 90 91 92 93 94 95\n",
      " 96 97 98 99]\n"
     ]
    }
   ],
   "source": [
    "#2. Use arrange to create a Numpy array with equal space from 1-100\n",
    "a=np.arange(0,100,1)\n",
    "print(a)"
   ]
  },
  {
   "cell_type": "code",
   "execution_count": 4,
   "metadata": {},
   "outputs": [
    {
     "name": "stdout",
     "output_type": "stream",
     "text": [
      "[ 0 10 20 30 40 50 60 70 80 90]\n"
     ]
    }
   ],
   "source": [
    "#3. Use arrange to create a Numpy arrage with equal space of 10 (1-100)\n",
    "b=np.arange(0,100,10)\n",
    "print(b)"
   ]
  },
  {
   "cell_type": "code",
   "execution_count": 5,
   "metadata": {},
   "outputs": [
    {
     "name": "stdout",
     "output_type": "stream",
     "text": [
      "[ 0.   0.1  0.2  0.3  0.4  0.5  0.6  0.7  0.8  0.9  1.   1.1  1.2  1.3\n",
      "  1.4  1.5  1.6  1.7  1.8  1.9  2.   2.1  2.2  2.3  2.4  2.5  2.6  2.7\n",
      "  2.8  2.9  3.   3.1  3.2  3.3  3.4  3.5  3.6  3.7  3.8  3.9  4.   4.1\n",
      "  4.2  4.3  4.4  4.5  4.6  4.7  4.8  4.9  5.   5.1  5.2  5.3  5.4  5.5\n",
      "  5.6  5.7  5.8  5.9  6.   6.1  6.2  6.3  6.4  6.5  6.6  6.7  6.8  6.9\n",
      "  7.   7.1  7.2  7.3  7.4  7.5  7.6  7.7  7.8  7.9  8.   8.1  8.2  8.3\n",
      "  8.4  8.5  8.6  8.7  8.8  8.9  9.   9.1  9.2  9.3  9.4  9.5  9.6  9.7\n",
      "  9.8  9.9 10. ]\n"
     ]
    }
   ],
   "source": [
    "#4. Use linspace to create a Numpy array in range 0 through 10, space at 0.1\n",
    "c=np.linspace(0,10,101)\n",
    "print(c)"
   ]
  },
  {
   "cell_type": "code",
   "execution_count": 6,
   "metadata": {},
   "outputs": [
    {
     "name": "stdout",
     "output_type": "stream",
     "text": [
      "[[4 1 2 0 7 5 3 0 3 0]\n",
      " [9 2 0 4 4 1 3 9 9 0]\n",
      " [4 2 7 1 1 1 6 4 0 3]\n",
      " [4 2 1 9 8 1 8 1 1 4]\n",
      " [3 9 4 5 2 6 0 6 8 6]\n",
      " [8 4 1 3 2 2 4 2 2 7]\n",
      " [9 7 6 0 7 7 8 7 2 9]\n",
      " [6 6 3 8 5 3 9 5 6 7]\n",
      " [5 2 5 4 7 7 4 9 9 2]\n",
      " [7 8 7 7 9 5 3 1 3 8]]\n"
     ]
    }
   ],
   "source": [
    "#5.Create a two dimensional array, 10*10, using random\n",
    "d=np.random.randint(0,10,(10,10))\n",
    "print(d)"
   ]
  },
  {
   "cell_type": "code",
   "execution_count": 7,
   "metadata": {},
   "outputs": [
    {
     "name": "stdout",
     "output_type": "stream",
     "text": [
      "[[ 0  1  2  3  4  5  6  7  8  9]\n",
      " [10 11 12 13 14 15 16 17 18 19]\n",
      " [20 21 22 23 24 25 26 27 28 29]\n",
      " [30 31 32 33 34 35 36 37 38 39]\n",
      " [40 41 42 43 44 45 46 47 48 49]\n",
      " [50 51 52 53 54 55 56 57 58 59]\n",
      " [60 61 62 63 64 65 66 67 68 69]\n",
      " [70 71 72 73 74 75 76 77 78 79]\n",
      " [80 81 82 83 84 85 86 87 88 89]\n",
      " [90 91 92 93 94 95 96 97 98 99]]\n"
     ]
    }
   ],
   "source": [
    "#6. reshape a and make it 10*10\n",
    "e=np.array(a).reshape(10,10)\n",
    "print(e)"
   ]
  },
  {
   "cell_type": "code",
   "execution_count": 8,
   "metadata": {},
   "outputs": [
    {
     "name": "stdout",
     "output_type": "stream",
     "text": [
      "[4 5]\n"
     ]
    }
   ],
   "source": [
    "#7 Indexing 4-6 in a, space=1, then the output is [4 5]\n",
    "print(a[4:6:1])"
   ]
  },
  {
   "cell_type": "code",
   "execution_count": 9,
   "metadata": {},
   "outputs": [
    {
     "name": "stdout",
     "output_type": "stream",
     "text": [
      "4\n"
     ]
    }
   ],
   "source": [
    "#8 indexing a[4], get the result \n",
    "print(a[4])"
   ]
  },
  {
   "cell_type": "code",
   "execution_count": 10,
   "metadata": {},
   "outputs": [
    {
     "name": "stdout",
     "output_type": "stream",
     "text": [
      "450\n"
     ]
    }
   ],
   "source": [
    "#9Show the sum d\n",
    "sum=np.sum(d)\n",
    "print(sum)"
   ]
  },
  {
   "cell_type": "code",
   "execution_count": 11,
   "metadata": {},
   "outputs": [
    {
     "name": "stdout",
     "output_type": "stream",
     "text": [
      "99\n"
     ]
    }
   ],
   "source": [
    "#10 Show a.max\n",
    "print(a.max())"
   ]
  },
  {
   "cell_type": "code",
   "execution_count": 12,
   "metadata": {},
   "outputs": [
    {
     "name": "stdout",
     "output_type": "stream",
     "text": [
      "[[ 0]\n",
      " [10]\n",
      " [20]\n",
      " [30]\n",
      " [40]\n",
      " [50]\n",
      " [60]\n",
      " [70]\n",
      " [80]\n",
      " [90]]\n"
     ]
    }
   ],
   "source": [
    "#11.Transpose b\n",
    "print(b.reshape(b.shape[0],1))"
   ]
  },
  {
   "cell_type": "code",
   "execution_count": 13,
   "metadata": {},
   "outputs": [
    {
     "name": "stdout",
     "output_type": "stream",
     "text": [
      "[[  4   2   4   3  11  10   9   7  11   9]\n",
      " [ 19  13  12  17  18  16  19  26  27  19]\n",
      " [ 24  23  29  24  25  26  32  31  28  32]\n",
      " [ 34  33  33  42  42  36  44  38  39  43]\n",
      " [ 43  50  46  48  46  51  46  53  56  55]\n",
      " [ 58  55  53  56  56  57  60  59  60  66]\n",
      " [ 69  68  68  63  71  72  74  74  70  78]\n",
      " [ 76  77  75  81  79  78  85  82  84  86]\n",
      " [ 85  83  87  87  91  92  90  96  97  91]\n",
      " [ 97  99  99 100 103 100  99  98 101 107]]\n"
     ]
    }
   ],
   "source": [
    "#12. adding a and d\n",
    "print(np.array(a).reshape(10,10)+d)"
   ]
  },
  {
   "cell_type": "code",
   "execution_count": 37,
   "metadata": {},
   "outputs": [
    {
     "name": "stdout",
     "output_type": "stream",
     "text": [
      "[[  0   7   0   9  20  25   6   0  40  81]\n",
      " [ 90  77   0 104 126  75 144  51  54  19]\n",
      " [180 147 154 161 192 225   0  27 252  58]\n",
      " [270 124  96   0 170 175 216  74 304  39]\n",
      " [320  41  84 344 352 135  92 329 288 343]\n",
      " [100 255 104 477 378  55 224 342  58 413]\n",
      " [240 488  62 315 448 195 462 402 612   0]\n",
      " [350 639 144 365   0 525 152 308 468 316]\n",
      " [560   0 492 498 252 765 516 348 792 445]\n",
      " [720   0 644   0  94 665  96   0 784 396]]\n"
     ]
    }
   ],
   "source": [
    "#13 multiplying a and d\n",
    "print(np.array(a).reshape(10,10)*d)"
   ]
  },
  {
   "cell_type": "code",
   "execution_count": 38,
   "metadata": {},
   "outputs": [
    {
     "name": "stdout",
     "output_type": "stream",
     "text": [
      "[[ 283  173  172  212  182  257  168  165  314  175]\n",
      " [ 953  653  472  722  712  797  548  495  954  575]\n",
      " [1623 1133  772 1232 1242 1337  928  825 1594  975]\n",
      " [2293 1613 1072 1742 1772 1877 1308 1155 2234 1375]\n",
      " [2963 2093 1372 2252 2302 2417 1688 1485 2874 1775]\n",
      " [3633 2573 1672 2762 2832 2957 2068 1815 3514 2175]\n",
      " [4303 3053 1972 3272 3362 3497 2448 2145 4154 2575]\n",
      " [4973 3533 2272 3782 3892 4037 2828 2475 4794 2975]\n",
      " [5643 4013 2572 4292 4422 4577 3208 2805 5434 3375]\n",
      " [6313 4493 2872 4802 4952 5117 3588 3135 6074 3775]]\n"
     ]
    }
   ],
   "source": [
    "#14 computing the dot product of a and d\n",
    "e=np.array(a).reshape(10,10)\n",
    "print(e.dot(d))"
   ]
  },
  {
   "cell_type": "code",
   "execution_count": null,
   "metadata": {},
   "outputs": [],
   "source": []
  }
 ],
 "metadata": {
  "kernelspec": {
   "display_name": "Python 3",
   "language": "python",
   "name": "python3"
  },
  "language_info": {
   "codemirror_mode": {
    "name": "ipython",
    "version": 3
   },
   "file_extension": ".py",
   "mimetype": "text/x-python",
   "name": "python",
   "nbconvert_exporter": "python",
   "pygments_lexer": "ipython3",
   "version": "3.6.5"
  }
 },
 "nbformat": 4,
 "nbformat_minor": 2
}
